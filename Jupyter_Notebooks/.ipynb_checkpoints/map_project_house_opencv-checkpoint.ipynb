{
 "cells": [
  {
   "cell_type": "code",
   "execution_count": 1,
   "id": "34c23247",
   "metadata": {},
   "outputs": [
    {
     "name": "stdout",
     "output_type": "stream",
     "text": [
      "4.4.0\n"
     ]
    }
   ],
   "source": [
    "import cv2\n",
    "print(cv2.__version__)\n",
    "\n",
    "import numpy as np\n",
    "from matplotlib import pyplot as plt\n",
    "import time\n",
    "\n",
    "# Only for jupyter notebook visualization\n",
    "%matplotlib inline "
   ]
  },
  {
   "cell_type": "code",
   "execution_count": 2,
   "id": "6c24822f",
   "metadata": {},
   "outputs": [],
   "source": [
    "image = cv2.imread('/home/lorenzo/map.pgm')\n",
    "image_rgb = cv2.cvtColor(image,cv2.COLOR_BGR2RGB)"
   ]
  },
  {
   "cell_type": "code",
   "execution_count": 3,
   "id": "ad23250b",
   "metadata": {},
   "outputs": [
    {
     "name": "stdout",
     "output_type": "stream",
     "text": [
      "(384, 832, 3)\n",
      "The Height is: 384\n",
      "The Width is:  832\n",
      "The Number of Channels is:  3\n"
     ]
    }
   ],
   "source": [
    "print(image.shape)\n",
    "\n",
    "# Printing height width and channels separately\n",
    "height = image.shape[0]\n",
    "width = image.shape[1]\n",
    "ch = image.shape[2]\n",
    "\n",
    "print(\"The Height is:\",height)\n",
    "print(\"The Width is: \",width)\n",
    "print(\"The Number of Channels is: \",ch)"
   ]
  },
  {
   "cell_type": "code",
   "execution_count": 4,
   "id": "cbe5b301",
   "metadata": {
    "scrolled": true
   },
   "outputs": [
    {
     "data": {
      "image/png": "[encoded data removed]",
      "text/plain": [
       "<Figure size 432x288 with 1 Axes>"
      ]
     },
     "metadata": {
      "needs_background": "light"
     },
     "output_type": "display_data"
    }
   ],
   "source": [
    "plt.imshow(image_rgb)\n",
    "plt.show()"
   ]
  },
  {
   "cell_type": "code",
   "execution_count": 5,
   "id": "25473827",
   "metadata": {},
   "outputs": [
    {
     "name": "stdout",
     "output_type": "stream",
     "text": [
      "(384, 832) (384, 832) (384, 832)\n"
     ]
    }
   ],
   "source": [
    "R = image_rgb[:,:,0] # Getting the first axis, Red\n",
    "G = image_rgb[:,:,1] # Getting the second axis, Green\n",
    "B = image_rgb[:,:,2] # Getting the third axis, Blue\n",
    "\n",
    "# Each channel can be seen as a grayscale image\n",
    "print(R.shape, G.shape, B.shape)"
   ]
  },
  {
   "cell_type": "code",
   "execution_count": 6,
   "id": "f6494923",
   "metadata": {},
   "outputs": [],
   "source": [
    "min_value = 250\n",
    "image_rgb[image_rgb[:,:,0] < min_value] = 0\n",
    "image_rgb[image_rgb[:,:,1] < min_value] = 0\n",
    "image_rgb[image_rgb[:,:,2] < min_value] = 0\n",
    " "
   ]
  },
  {
   "cell_type": "code",
   "execution_count": 7,
   "id": "4f08c2aa",
   "metadata": {},
   "outputs": [
    {
     "data": {
      "image/png": "[encoded data removed]",
      "text/plain": [
       "<Figure size 432x288 with 1 Axes>"
      ]
     },
     "metadata": {
      "needs_background": "light"
     },
     "output_type": "display_data"
    }
   ],
   "source": [
    "plt.imshow(image_rgb)\n",
    "plt.show()"
   ]
  },
  {
   "cell_type": "code",
   "execution_count": 9,
   "id": "d146f7bc",
   "metadata": {},
   "outputs": [
    {
     "data": {
      "text/plain": [
       "True"
      ]
     },
     "execution_count": 9,
     "metadata": {},
     "output_type": "execute_result"
    }
   ],
   "source": [
    "cv2.imwrite(\"/home/lorenzo/map_black.png\", image_rgb)"
   ]
  },
  {
   "cell_type": "code",
   "execution_count": 8,
   "id": "f18d3423",
   "metadata": {},
   "outputs": [
    {
     "name": "stdout",
     "output_type": "stream",
     "text": [
      "Resized Dimensions :  (96, 208, 3)\n"
     ]
    },
    {
     "data": {
      "image/png": "[encoded data removed]",
      "text/plain": [
       "<Figure size 432x288 with 1 Axes>"
      ]
     },
     "metadata": {
      "needs_background": "light"
     },
     "output_type": "display_data"
    }
   ],
   "source": [
    "scale_percent = 25 # percent of original size (from 0.05 to 0.2 pixel)\n",
    "width = int(image_rgb.shape[1] * scale_percent / 100)\n",
    "height = int(image_rgb.shape[0] * scale_percent / 100)\n",
    "dim = (width, height)\n",
    "\n",
    "# resize image\n",
    "resized = cv2.resize(image_rgb, dim, interpolation = cv2.INTER_AREA)\n",
    " \n",
    "print('Resized Dimensions : ',resized.shape)\n",
    " \n",
    "plt.imshow(resized)\n",
    "plt.show()"
   ]
  },
  {
   "cell_type": "code",
   "execution_count": 11,
   "id": "979b833c",
   "metadata": {},
   "outputs": [],
   "source": [
    "min_value = 250\n",
    "resized[resized[:,:,0] < min_value] = 0\n",
    "resized[resized[:,:,1] < min_value] = 0\n",
    "resized[resized[:,:,2] < min_value] = 0\n"
   ]
  },
  {
   "cell_type": "code",
   "execution_count": 12,
   "id": "012b7ddb",
   "metadata": {
    "scrolled": false
   },
   "outputs": [
    {
     "data": {
      "image/png": "[encoded data removed]",
      "text/plain": [
       "<Figure size 432x288 with 1 Axes>"
      ]
     },
     "metadata": {
      "needs_background": "light"
     },
     "output_type": "display_data"
    }
   ],
   "source": [
    "plt.imshow(resized)\n",
    "plt.show()"
   ]
  },
  {
   "cell_type": "code",
   "execution_count": 13,
   "id": "e4842748",
   "metadata": {},
   "outputs": [
    {
     "data": {
      "text/plain": [
       "True"
      ]
     },
     "execution_count": 13,
     "metadata": {},
     "output_type": "execute_result"
    }
   ],
   "source": [
    "cv2.imwrite(\"/home/lorenzo/map_black_resized.png\", resized)"
   ]
  },
  {
   "cell_type": "code",
   "execution_count": 10,
   "id": "1814e2a2",
   "metadata": {
    "scrolled": true
   },
   "outputs": [
    {
     "data": {
      "image/png": "[encoded data removed]",
      "text/plain": [
       "<Figure size 432x288 with 1 Axes>"
      ]
     },
     "metadata": {
      "needs_background": "light"
     },
     "output_type": "display_data"
    }
   ],
   "source": [
    "resized = resized[8:8+80,8:8+80] # transformation to preserve the box shape, original image is 96x96, cropped one is 88x88\n",
    "plt.imshow(resized)\n",
    "plt.show()"
   ]
  },
  {
   "cell_type": "code",
   "execution_count": 34,
   "id": "90d0d53e",
   "metadata": {},
   "outputs": [
    {
     "data": {
      "text/plain": [
       "True"
      ]
     },
     "execution_count": 34,
     "metadata": {},
     "output_type": "execute_result"
    }
   ],
   "source": [
    "cv2.imwrite(\"/home/lorenzo/map_black_resized.png\", resized)"
   ]
  },
  {
   "cell_type": "markdown",
   "id": "3ea8078e",
   "metadata": {},
   "source": [
    "## Room detection"
   ]
  },
  {
   "cell_type": "markdown",
   "id": "83c9c8fa",
   "metadata": {},
   "source": [
    "Original image:"
   ]
  },
  {
   "cell_type": "code",
   "execution_count": 9,
   "id": "0b135a95",
   "metadata": {},
   "outputs": [
    {
     "name": "stdout",
     "output_type": "stream",
     "text": [
      "(384, 832, 3)\n"
     ]
    },
    {
     "data": {
      "image/png": "[encoded data removed]",
      "text/plain": [
       "<Figure size 432x288 with 1 Axes>"
      ]
     },
     "metadata": {
      "needs_background": "light"
     },
     "output_type": "display_data"
    }
   ],
   "source": [
    "image = cv2.imread('/home/lorenzo/map_black.png')\n",
    "image_rgb = cv2.cvtColor(image,cv2.COLOR_BGR2RGB)\n",
    "print(image.shape)\n",
    "plt.imshow(image_rgb)\n",
    "plt.show()\n",
    "# convert the image to grayscale format\n",
    "img_gray = cv2.cvtColor(image_rgb, cv2.COLOR_BGR2GRAY)"
   ]
  },
  {
   "cell_type": "markdown",
   "id": "0a872809",
   "metadata": {},
   "source": [
    "Read the image and performe **erosion** followed by **dilation** to \"separate\" the rooms:"
   ]
  },
  {
   "cell_type": "code",
   "execution_count": 10,
   "id": "8e7df4bb",
   "metadata": {},
   "outputs": [
    {
     "data": {
      "image/png": "[encoded data removed]",
      "text/plain": [
       "<Figure size 432x288 with 1 Axes>"
      ]
     },
     "metadata": {
      "needs_background": "light"
     },
     "output_type": "display_data"
    },
    {
     "data": {
      "text/plain": [
       "True"
      ]
     },
     "execution_count": 10,
     "metadata": {},
     "output_type": "execute_result"
    }
   ],
   "source": [
    "image = cv2.imread('/home/lorenzo/map_black.png')\n",
    "# convert the image to grayscale format\n",
    "img_gray = cv2.cvtColor(image, cv2.COLOR_BGR2GRAY)\n",
    "\n",
    "kernel = np.ones((5,5),np.uint8)\n",
    "erosion = cv2.erode(img_gray,kernel,iterations = 10)\n",
    "dilate = cv2.dilate(erosion,kernel,iterations = 10)\n",
    "\n",
    "plt.imshow(dilate, cmap='gray', vmin=0, vmax=255)\n",
    "plt.show()\n",
    "\n",
    "#cv2.imwrite(\"/home/lorenzo/map_dil_er.png\", dilate)"
   ]
  },
  {
   "cell_type": "markdown",
   "id": "942924a3",
   "metadata": {},
   "source": [
    "Detect **contours** of the image:"
   ]
  },
  {
   "cell_type": "code",
   "execution_count": 11,
   "id": "5ffdee2f",
   "metadata": {
    "scrolled": true
   },
   "outputs": [
    {
     "data": {
      "image/png": "[encoded data removed]",
      "text/plain": [
       "<Figure size 432x288 with 1 Axes>"
      ]
     },
     "metadata": {
      "needs_background": "light"
     },
     "output_type": "display_data"
    },
    {
     "data": {
      "text/plain": [
       "True"
      ]
     },
     "execution_count": 11,
     "metadata": {},
     "output_type": "execute_result"
    }
   ],
   "source": [
    "# detect the contours on the binary image using cv2.CHAIN_APPROX_NONE\n",
    "contours, hierarchy = cv2.findContours(image=dilate, mode=cv2.RETR_TREE, method=cv2.CHAIN_APPROX_NONE)\n",
    "# draw contours on the original image\n",
    "image_copy = dilate.copy()\n",
    "image_rgb = cv2.cvtColor(image_copy,cv2.COLOR_BGR2RGB)\n",
    "image_rgb_copy = image_rgb.copy()\n",
    "cv2.drawContours(image=image_rgb_copy, contours=contours, contourIdx=-1, color=(0, 255, 0), thickness=2, lineType=cv2.LINE_AA)\n",
    "plt.imshow(image_rgb_copy)\n",
    "plt.show()\n",
    "\n",
    "#cv2.imwrite(\"/home/lorenzo/map_contours.png\", image_rgb_copy)"
   ]
  },
  {
   "cell_type": "markdown",
   "id": "5898126e",
   "metadata": {},
   "source": [
    "For every contour find the **bounding rectangle** and verify that the area is > than a treshold in order to consider only the rooms and discard tables legs. Print how many rooms were detected:"
   ]
  },
  {
   "cell_type": "code",
   "execution_count": 13,
   "id": "b93ad8ea",
   "metadata": {
    "scrolled": false
   },
   "outputs": [
    {
     "name": "stdout",
     "output_type": "stream",
     "text": [
      "ROOMS DETECTOR ALGORITHM\n",
      "179 232\n",
      "1\n",
      "545 171\n",
      "2\n",
      "254 170\n",
      "3\n",
      "463 168\n",
      "4\n",
      "180 168\n",
      "5\n",
      "183 95\n",
      "6\n",
      "560 86\n",
      "7\n",
      "454 83\n",
      "8\n",
      "In this house I found 8 rooms.\n"
     ]
    },
    {
     "data": {
      "image/png": "[encoded data removed]",
      "text/plain": [
       "<Figure size 432x288 with 1 Axes>"
      ]
     },
     "metadata": {
      "needs_background": "light"
     },
     "output_type": "display_data"
    },
    {
     "data": {
      "text/plain": [
       "True"
      ]
     },
     "execution_count": 13,
     "metadata": {},
     "output_type": "execute_result"
    }
   ],
   "source": [
    "print(\"ROOMS DETECTOR ALGORITHM\")\n",
    "n_rooms = 0\n",
    "for contour in contours: \n",
    "    x,y,w,h = cv2.boundingRect(contour) # x,y top-left coordinate of the rectangle and w,h be its width and height\n",
    "    area = w*h\n",
    "    if area > 150:\n",
    "        n_rooms+=1\n",
    "        cv2.rectangle(image_rgb,(x,y),(x+w,y+h),(255,0,0),2)\n",
    "        print(x,y)\n",
    "        print(n_rooms)\n",
    "\n",
    "print(\"In this house I found\", n_rooms, \"rooms.\")    \n",
    "plt.imshow(image_rgb)\n",
    "plt.show()\n",
    "\n",
    "#image_rgb = cv2.cvtColor(image_rgb,cv2.COLOR_BGR2RGB)\n",
    "#cv2.imwrite(\"/home/lorenzo/map_rooms.png\", image_rgb)"
   ]
  },
  {
   "cell_type": "code",
   "execution_count": null,
   "id": "0b4afd04",
   "metadata": {},
   "outputs": [],
   "source": []
  }
 ],
 "metadata": {
  "kernelspec": {
   "display_name": "Python 3 (ipykernel)",
   "language": "python",
   "name": "python3"
  },
  "language_info": {
   "codemirror_mode": {
    "name": "ipython",
    "version": 3
   },
   "file_extension": ".py",
   "mimetype": "text/x-python",
   "name": "python",
   "nbconvert_exporter": "python",
   "pygments_lexer": "ipython3",
   "version": "3.8.10"
  }
 },
 "nbformat": 4,
 "nbformat_minor": 5
}
